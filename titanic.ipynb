import numpy as np
import pandas as pd
import matplotlib.pyplot as plt
import seaborn as sns

# Load the data from csv file to Pandas DataFrame
titanic_data = pd.read_csv('train.csv', encoding='unicode_escape')
titanic_data.head()
titanic_data.shape
titanic_data.info()

# Check the number of missing values in each column
titanic_data.isnull().sum()

# Drop the "Cabin" column from the dataframe
titanic_data = titanic_data.drop(columns='Cabin', axis=1)

# Replacing the missing values in the "Age" column with the mean value
titanic_data['Age'].fillna(titanic_data['Age'].mean(), inplace=True)

# Check the number of missing values in each column
titanic_data.isnull().sum()

# Getting some statistical measures about the data
titanic_data.describe()

# Plot countplots
sns.countplot(x='Survived', data=titanic_data)
plt.show()

sns.countplot(x='Sex', data=titanic_data)
plt.show()

sns.countplot(x='Pclass', data=titanic_data)
plt.show()

# Load the data from csv file to Pandas DataFrame
gd = pd.read_csv('gender_submission.csv', encoding='unicode_escape')
gd.head()

# Getting some statistical measures about the data
gd.describe()

test = pd.read_csv('test.csv', encoding='unicode_escape')
test.head()
test.describe()
test.isnull().sum()
test['Sex'].value_counts()

df = pd.read_csv('train.csv', encoding='unicode_escape')
df.head(3)
print(df.isnull().sum())
df['Age'].fillna(df['Age'].median(), inplace=True)
df['Embarked'].fillna(df['Embarked'].mode()[0], inplace=True)
df['Sex'] = df['Sex'].map({'female': 0, 'male': 1})
df['Embarked'] = df['Embarked'].map({'C': 0, 'Q': 1, 'S': 2})
df['Age'] = np.where(df['Age'] > df['Age'].quantile(0.99), df['Age'].median(), df['Age'])
df['Fare'] = np.where(df['Fare'] > df['Fare'].quantile(0.99), df['Fare'].median(), df['Fare'])
df['Deck'] = df['Cabin'].str.slice(0, 1)
df['Deck'] = df['Cabin'].fillna('Unknown')
df['HasCabin'] = df['Cabin'].notnull().astype(int)
df['FamilySize'] = df['SibSp'] + df['Parch'] + 1
age_bins = [0, 12, 18, 30, 50, 100]
age_labels = ['Child', 'Teen', 'Young adult', 'Adult', 'Senior']
df['AgeGroup'] = pd.cut(df['Age'], bins=age_bins, labels=age_labels)

# Drop non-numeric columns before calculating the correlation matrix
numeric_columns = df.select_dtypes(include=[np.number])
corr_matrix = numeric_columns.corr()

# Plot the correlation matrix using a heatmap
sns.heatmap(corr_matrix, annot=True, cmap='coolwarm')
plt.title('Correlation Matrix')
plt.show()